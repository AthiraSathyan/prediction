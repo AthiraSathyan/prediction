{
  "cells": [
    {
      "cell_type": "markdown",
      "metadata": {
        "id": "view-in-github",
        "colab_type": "text"
      },
      "source": [
        "<a href=\"https://colab.research.google.com/github/AthiraSathyan/prediction/blob/main/Dementia_Classification.ipynb\" target=\"_parent\"><img src=\"https://colab.research.google.com/assets/colab-badge.svg\" alt=\"Open In Colab\"/></a>"
      ]
    },
    {
      "cell_type": "code",
      "execution_count": 1,
      "metadata": {
        "id": "KC3fYNgwf5pM"
      },
      "outputs": [],
      "source": [
        "from tensorflow.keras import Model\n",
        "from tensorflow.keras import Sequential, Input\n",
        "from tensorflow.keras.layers import Dense, Dropout\n",
        "import tensorflow as tf\n",
        "import matplotlib.pyplot as plt\n",
        "from sklearn.model_selection import train_test_split\n",
        "from tensorflow.keras.layers import Conv2D, Flatten\n",
        "from tensorflow.keras.callbacks import ReduceLROnPlateau\n",
        "from tensorflow.keras.applications.vgg16 import VGG16, preprocess_input \n",
        "from tensorflow.keras.preprocessing.image import ImageDataGenerator as IDG\n",
        "from tensorflow.keras.layers import SeparableConv2D, BatchNormalization, GlobalAveragePooling2D,InputLayer"
      ]
    },
    {
      "cell_type": "code",
      "execution_count": null,
      "metadata": {
        "id": "XdLBXZ_HTjI1"
      },
      "outputs": [],
      "source": [
        ""
      ]
    },
    {
      "cell_type": "code",
      "execution_count": 2,
      "metadata": {
        "id": "YD8dUrDOuM3G"
      },
      "outputs": [],
      "source": [
        "IMG_SIZE = 176\n",
        "IMAGE_SIZE = [176, 176]\n",
        "DIM = (IMG_SIZE, IMG_SIZE)"
      ]
    },
    {
      "cell_type": "code",
      "execution_count": 3,
      "metadata": {
        "id": "UgeCFGrOu49q"
      },
      "outputs": [],
      "source": [
        "dataGenerator = IDG(preprocessing_function=preprocess_input,\n",
        "                fill_mode='constant',\n",
        "                rotation_range=15,\n",
        "                zoom_range= [.99, 1.01],\n",
        "                brightness_range= [0.8, 1.2],\n",
        "                data_format='channels_last',\n",
        "                horizontal_flip= True)"
      ]
    },
    {
      "cell_type": "code",
      "execution_count": 5,
      "metadata": {
        "colab": {
          "base_uri": "https://localhost:8080/"
        },
        "id": "JHRuWywawnmn",
        "outputId": "4b27762c-bc00-4a1c-a590-8e0ba4b5a341"
      },
      "outputs": [
        {
          "output_type": "stream",
          "name": "stdout",
          "text": [
            "Found 6400 images belonging to 4 classes.\n"
          ]
        }
      ],
      "source": [
        "generator = dataGenerator.flow_from_directory(\n",
        "    '/content/drive/My Drive/Alzheimer_s Dataset/train_test',\n",
        "    target_size=DIM,\n",
        "    batch_size=6400,\n",
        "    shuffle=False,\n",
        "    subset='training')"
      ]
    },
    {
      "cell_type": "code",
      "execution_count": 4,
      "metadata": {
        "colab": {
          "base_uri": "https://localhost:8080/"
        },
        "id": "K_FZE2boHimU",
        "outputId": "1aa476f7-ab4e-4347-8ff6-0c2ce80dc74d"
      },
      "outputs": [
        {
          "output_type": "stream",
          "name": "stdout",
          "text": [
            "Mounted at /content/drive\n"
          ]
        }
      ],
      "source": [
        "from google.colab import drive\n",
        "drive.mount('/content/drive')"
      ]
    },
    {
      "cell_type": "code",
      "execution_count": 6,
      "metadata": {
        "colab": {
          "base_uri": "https://localhost:8080/"
        },
        "id": "Msptr3FHo8fF",
        "outputId": "185b1c78-a132-45fa-a9ac-f779a4ee11cd"
      },
      "outputs": [
        {
          "output_type": "stream",
          "name": "stdout",
          "text": [
            "Found 1279 images belonging to 4 classes.\n"
          ]
        }
      ],
      "source": [
        "generator1 = dataGenerator.flow_from_directory(\n",
        "    '/content/drive/MyDrive/Alzheimer_s Dataset/validation',\n",
        "    target_size=DIM,\n",
        "    batch_size=1279,\n",
        "    shuffle=False,)"
      ]
    },
    {
      "cell_type": "code",
      "execution_count": 7,
      "metadata": {
        "colab": {
          "base_uri": "https://localhost:8080/"
        },
        "id": "K1ruXowpwwEK",
        "outputId": "877432f5-7120-46a3-cd2e-31eb8e2227b7"
      },
      "outputs": [
        {
          "output_type": "stream",
          "name": "stdout",
          "text": [
            "{'MildDemented': 0, 'ModerateDemented': 1, 'NonDemented': 2, 'VeryMildDemented': 3}\n"
          ]
        }
      ],
      "source": [
        "print(generator.class_indices)"
      ]
    },
    {
      "cell_type": "code",
      "execution_count": 9,
      "metadata": {
        "id": "3DHcDlfZ1o1-"
      },
      "outputs": [],
      "source": [
        "train_data, train_labels = generator.next()"
      ]
    },
    {
      "cell_type": "code",
      "execution_count": 10,
      "metadata": {
        "id": "iVWkw0uBpRj0"
      },
      "outputs": [],
      "source": [
        "test_data, test_labels =  generator1.next()"
      ]
    },
    {
      "cell_type": "code",
      "execution_count": 11,
      "metadata": {
        "colab": {
          "base_uri": "https://localhost:8080/"
        },
        "id": "x5oIIvHo19IR",
        "outputId": "a687415b-4973-4f7c-afda-64dc9d26d944"
      },
      "outputs": [
        {
          "output_type": "stream",
          "name": "stdout",
          "text": [
            "(6400, 176, 176, 3) (6400, 4)\n"
          ]
        }
      ],
      "source": [
        "print(train_data.shape, train_labels.shape)"
      ]
    },
    {
      "cell_type": "code",
      "execution_count": 30,
      "metadata": {
        "id": "9fl2qwmEieLJ"
      },
      "outputs": [],
      "source": [
        "train_data, val_data, train_labels, val_labels = train_test_split(train_data, train_labels, test_size = 0.2, random_state=42)"
      ]
    },
    {
      "cell_type": "code",
      "execution_count": 31,
      "metadata": {
        "colab": {
          "base_uri": "https://localhost:8080/"
        },
        "id": "i5RM7Bm8mDA_",
        "outputId": "ca0d4d19-d323-4e59-9dcb-846b41fe701f"
      },
      "outputs": [
        {
          "output_type": "stream",
          "name": "stdout",
          "text": [
            "(3276, 176, 176, 3)\n",
            "(1024, 176, 176, 3)\n"
          ]
        }
      ],
      "source": [
        "print(train_data.shape)\n",
        "print(test_data.shape)"
      ]
    },
    {
      "cell_type": "code",
      "execution_count": 32,
      "metadata": {
        "colab": {
          "base_uri": "https://localhost:8080/"
        },
        "id": "b5LXsyWHggvr",
        "outputId": "2348981f-c1d0-4eb0-9526-b761a05baf79"
      },
      "outputs": [
        {
          "output_type": "stream",
          "name": "stdout",
          "text": [
            "Model: \"vgg16\"\n",
            "_________________________________________________________________\n",
            " Layer (type)                Output Shape              Param #   \n",
            "=================================================================\n",
            " input_3 (InputLayer)        [(None, 176, 176, 3)]     0         \n",
            "                                                                 \n",
            " block1_conv1 (Conv2D)       (None, 176, 176, 64)      1792      \n",
            "                                                                 \n",
            " block1_conv2 (Conv2D)       (None, 176, 176, 64)      36928     \n",
            "                                                                 \n",
            " block1_pool (MaxPooling2D)  (None, 88, 88, 64)        0         \n",
            "                                                                 \n",
            " block2_conv1 (Conv2D)       (None, 88, 88, 128)       73856     \n",
            "                                                                 \n",
            " block2_conv2 (Conv2D)       (None, 88, 88, 128)       147584    \n",
            "                                                                 \n",
            " block2_pool (MaxPooling2D)  (None, 44, 44, 128)       0         \n",
            "                                                                 \n",
            " block3_conv1 (Conv2D)       (None, 44, 44, 256)       295168    \n",
            "                                                                 \n",
            " block3_conv2 (Conv2D)       (None, 44, 44, 256)       590080    \n",
            "                                                                 \n",
            " block3_conv3 (Conv2D)       (None, 44, 44, 256)       590080    \n",
            "                                                                 \n",
            " block3_pool (MaxPooling2D)  (None, 22, 22, 256)       0         \n",
            "                                                                 \n",
            " block4_conv1 (Conv2D)       (None, 22, 22, 512)       1180160   \n",
            "                                                                 \n",
            " block4_conv2 (Conv2D)       (None, 22, 22, 512)       2359808   \n",
            "                                                                 \n",
            " block4_conv3 (Conv2D)       (None, 22, 22, 512)       2359808   \n",
            "                                                                 \n",
            " block4_pool (MaxPooling2D)  (None, 11, 11, 512)       0         \n",
            "                                                                 \n",
            " block5_conv1 (Conv2D)       (None, 11, 11, 512)       2359808   \n",
            "                                                                 \n",
            " block5_conv2 (Conv2D)       (None, 11, 11, 512)       2359808   \n",
            "                                                                 \n",
            " block5_conv3 (Conv2D)       (None, 11, 11, 512)       2359808   \n",
            "                                                                 \n",
            " block5_pool (MaxPooling2D)  (None, 5, 5, 512)         0         \n",
            "                                                                 \n",
            "=================================================================\n",
            "Total params: 14,714,688\n",
            "Trainable params: 14,714,688\n",
            "Non-trainable params: 0\n",
            "_________________________________________________________________\n"
          ]
        }
      ],
      "source": [
        "vgg_model = VGG16(input_shape=(176, 176, 3), include_top=False, weights=\"imagenet\")\n",
        "vgg_model.summary()"
      ]
    },
    {
      "cell_type": "code",
      "execution_count": 33,
      "metadata": {
        "id": "AxRJEOCHomsf"
      },
      "outputs": [],
      "source": [
        "for layer in vgg_model.layers:\n",
        "    layer.trainable=False"
      ]
    },
    {
      "cell_type": "code",
      "execution_count": 34,
      "metadata": {
        "id": "smUv0uh5jBXq"
      },
      "outputs": [],
      "source": [
        "custom_vgg_model = Sequential([\n",
        "        vgg_model,\n",
        "        Dropout(0.5),\n",
        "        Flatten(),\n",
        "        BatchNormalization(),\n",
        "        Dense(1024, activation='relu'),\n",
        "        BatchNormalization(),\n",
        "        Dropout(0.5),\n",
        "        Dense(1024, activation='relu'),\n",
        "        BatchNormalization(),\n",
        "        Dropout(0.5),\n",
        "        Dense(1024, activation='relu'),\n",
        "        BatchNormalization(),\n",
        "        Dropout(0.5),\n",
        "        Dense(4, activation='softmax')        \n",
        "    ], name = \"vgg_cnn_model\")\n",
        "#model.get_config()"
      ]
    },
    {
      "cell_type": "code",
      "execution_count": 35,
      "metadata": {
        "id": "DJuVrvl3tMEw"
      },
      "outputs": [],
      "source": [
        "class MyCallback(tf.keras.callbacks.Callback):\n",
        "    def on_epoch_end(self, epoch, logs={}):\n",
        "        if logs.get('acc') > 0.99:\n",
        "            print(\"\\nReached accuracy threshold! Terminating training.\")\n",
        "            self.model.stop_training = True\n",
        "            \n",
        "my_callback = MyCallback()\n",
        "\n",
        "#ReduceLROnPlateau to stabilize the training process of the model\n",
        "rop_callback = ReduceLROnPlateau(monitor=\"val_loss\", patience=3)"
      ]
    },
    {
      "cell_type": "code",
      "execution_count": 36,
      "metadata": {
        "colab": {
          "base_uri": "https://localhost:8080/"
        },
        "id": "m_Gs90Qptk-v",
        "outputId": "03e7e9da-3a60-4596-919b-7ca4e571ffd1"
      },
      "outputs": [
        {
          "output_type": "stream",
          "name": "stdout",
          "text": [
            "Model: \"vgg_cnn_model\"\n",
            "_________________________________________________________________\n",
            " Layer (type)                Output Shape              Param #   \n",
            "=================================================================\n",
            " vgg16 (Functional)          (None, 5, 5, 512)         14714688  \n",
            "                                                                 \n",
            " dropout_8 (Dropout)         (None, 5, 5, 512)         0         \n",
            "                                                                 \n",
            " flatten_2 (Flatten)         (None, 12800)             0         \n",
            "                                                                 \n",
            " batch_normalization_8 (Batc  (None, 12800)            51200     \n",
            " hNormalization)                                                 \n",
            "                                                                 \n",
            " dense_8 (Dense)             (None, 1024)              13108224  \n",
            "                                                                 \n",
            " batch_normalization_9 (Batc  (None, 1024)             4096      \n",
            " hNormalization)                                                 \n",
            "                                                                 \n",
            " dropout_9 (Dropout)         (None, 1024)              0         \n",
            "                                                                 \n",
            " dense_9 (Dense)             (None, 1024)              1049600   \n",
            "                                                                 \n",
            " batch_normalization_10 (Bat  (None, 1024)             4096      \n",
            " chNormalization)                                                \n",
            "                                                                 \n",
            " dropout_10 (Dropout)        (None, 1024)              0         \n",
            "                                                                 \n",
            " dense_10 (Dense)            (None, 1024)              1049600   \n",
            "                                                                 \n",
            " batch_normalization_11 (Bat  (None, 1024)             4096      \n",
            " chNormalization)                                                \n",
            "                                                                 \n",
            " dropout_11 (Dropout)        (None, 1024)              0         \n",
            "                                                                 \n",
            " dense_11 (Dense)            (None, 4)                 4100      \n",
            "                                                                 \n",
            "=================================================================\n",
            "Total params: 29,989,700\n",
            "Trainable params: 15,243,268\n",
            "Non-trainable params: 14,746,432\n",
            "_________________________________________________________________\n"
          ]
        }
      ],
      "source": [
        "METRICS = [tf.keras.metrics.CategoricalAccuracy(name='acc'),\n",
        "           tf.keras.metrics.AUC(name='auc')]\n",
        "\n",
        "CALLBACKS = [my_callback, rop_callback]\n",
        "    \n",
        "custom_vgg_model.compile(optimizer='rmsprop',\n",
        "                              loss=tf.losses.CategoricalCrossentropy(),\n",
        "                              metrics=METRICS)\n",
        "\n",
        "custom_vgg_model.summary()"
      ]
    },
    {
      "cell_type": "code",
      "execution_count": 37,
      "metadata": {
        "colab": {
          "base_uri": "https://localhost:8080/"
        },
        "id": "lCIwK7scyI8g",
        "outputId": "6250f7be-1502-49de-da0f-565b61213ecc"
      },
      "outputs": [
        {
          "output_type": "stream",
          "name": "stdout",
          "text": [
            "Epoch 1/60\n",
            "103/103 [==============================] - 19s 164ms/step - loss: 2.0558 - acc: 0.4350 - auc: 0.6741 - val_loss: 2.6645 - val_acc: 0.4976 - val_auc: 0.6962 - lr: 0.0010\n",
            "Epoch 2/60\n",
            "103/103 [==============================] - 14s 136ms/step - loss: 1.3302 - acc: 0.5327 - auc: 0.7928 - val_loss: 1.6502 - val_acc: 0.5829 - val_auc: 0.8064 - lr: 0.0010\n",
            "Epoch 3/60\n",
            "103/103 [==============================] - 14s 135ms/step - loss: 1.1033 - acc: 0.5824 - auc: 0.8301 - val_loss: 1.5046 - val_acc: 0.5610 - val_auc: 0.8194 - lr: 0.0010\n",
            "Epoch 4/60\n",
            "103/103 [==============================] - 14s 132ms/step - loss: 0.9207 - acc: 0.6322 - auc: 0.8687 - val_loss: 1.3022 - val_acc: 0.6024 - val_auc: 0.8344 - lr: 0.0010\n",
            "Epoch 5/60\n",
            "103/103 [==============================] - 14s 132ms/step - loss: 0.8166 - acc: 0.6703 - auc: 0.8920 - val_loss: 1.0605 - val_acc: 0.6085 - val_auc: 0.8526 - lr: 0.0010\n",
            "Epoch 6/60\n",
            "103/103 [==============================] - 13s 131ms/step - loss: 0.7479 - acc: 0.6938 - auc: 0.9057 - val_loss: 0.9879 - val_acc: 0.6683 - val_auc: 0.8809 - lr: 0.0010\n",
            "Epoch 7/60\n",
            "103/103 [==============================] - 14s 132ms/step - loss: 0.6708 - acc: 0.7302 - auc: 0.9240 - val_loss: 1.1433 - val_acc: 0.6537 - val_auc: 0.8820 - lr: 0.0010\n",
            "Epoch 8/60\n",
            "103/103 [==============================] - 14s 133ms/step - loss: 0.5870 - acc: 0.7613 - auc: 0.9405 - val_loss: 1.2796 - val_acc: 0.6354 - val_auc: 0.8687 - lr: 0.0010\n",
            "Epoch 9/60\n",
            "103/103 [==============================] - 14s 133ms/step - loss: 0.5268 - acc: 0.7885 - auc: 0.9512 - val_loss: 1.2595 - val_acc: 0.6622 - val_auc: 0.8823 - lr: 0.0010\n",
            "Epoch 10/60\n",
            "103/103 [==============================] - 14s 133ms/step - loss: 0.4571 - acc: 0.8193 - auc: 0.9622 - val_loss: 1.5073 - val_acc: 0.6780 - val_auc: 0.8806 - lr: 1.0000e-04\n",
            "Epoch 11/60\n",
            "103/103 [==============================] - 14s 132ms/step - loss: 0.3898 - acc: 0.8449 - auc: 0.9717 - val_loss: 1.5566 - val_acc: 0.6756 - val_auc: 0.8839 - lr: 1.0000e-04\n",
            "Epoch 12/60\n",
            "103/103 [==============================] - 14s 132ms/step - loss: 0.3726 - acc: 0.8538 - auc: 0.9740 - val_loss: 1.8327 - val_acc: 0.6805 - val_auc: 0.8791 - lr: 1.0000e-04\n",
            "Epoch 13/60\n",
            "103/103 [==============================] - 14s 132ms/step - loss: 0.3787 - acc: 0.8556 - auc: 0.9734 - val_loss: 1.8599 - val_acc: 0.6780 - val_auc: 0.8824 - lr: 1.0000e-05\n",
            "Epoch 14/60\n",
            "103/103 [==============================] - 14s 132ms/step - loss: 0.3764 - acc: 0.8526 - auc: 0.9735 - val_loss: 1.8350 - val_acc: 0.6841 - val_auc: 0.8832 - lr: 1.0000e-05\n",
            "Epoch 15/60\n",
            "103/103 [==============================] - 14s 133ms/step - loss: 0.3604 - acc: 0.8611 - auc: 0.9757 - val_loss: 1.8036 - val_acc: 0.6854 - val_auc: 0.8823 - lr: 1.0000e-05\n",
            "Epoch 16/60\n",
            "103/103 [==============================] - 14s 133ms/step - loss: 0.3551 - acc: 0.8629 - auc: 0.9765 - val_loss: 1.8427 - val_acc: 0.6817 - val_auc: 0.8814 - lr: 1.0000e-06\n",
            "Epoch 17/60\n",
            "103/103 [==============================] - 14s 133ms/step - loss: 0.3776 - acc: 0.8532 - auc: 0.9732 - val_loss: 1.8677 - val_acc: 0.6793 - val_auc: 0.8787 - lr: 1.0000e-06\n",
            "Epoch 18/60\n",
            "103/103 [==============================] - 14s 133ms/step - loss: 0.3588 - acc: 0.8645 - auc: 0.9758 - val_loss: 1.9270 - val_acc: 0.6805 - val_auc: 0.8797 - lr: 1.0000e-06\n",
            "Epoch 19/60\n",
            "103/103 [==============================] - 14s 133ms/step - loss: 0.3520 - acc: 0.8669 - auc: 0.9769 - val_loss: 1.8918 - val_acc: 0.6780 - val_auc: 0.8804 - lr: 1.0000e-07\n",
            "Epoch 20/60\n",
            "103/103 [==============================] - 14s 133ms/step - loss: 0.3791 - acc: 0.8492 - auc: 0.9735 - val_loss: 1.9292 - val_acc: 0.6768 - val_auc: 0.8790 - lr: 1.0000e-07\n",
            "Epoch 21/60\n",
            "103/103 [==============================] - 14s 133ms/step - loss: 0.3751 - acc: 0.8565 - auc: 0.9735 - val_loss: 1.8958 - val_acc: 0.6780 - val_auc: 0.8793 - lr: 1.0000e-07\n",
            "Epoch 22/60\n",
            "103/103 [==============================] - 14s 132ms/step - loss: 0.3699 - acc: 0.8571 - auc: 0.9745 - val_loss: 1.9782 - val_acc: 0.6768 - val_auc: 0.8772 - lr: 1.0000e-08\n",
            "Epoch 23/60\n",
            "103/103 [==============================] - 14s 133ms/step - loss: 0.3862 - acc: 0.8516 - auc: 0.9725 - val_loss: 2.0627 - val_acc: 0.6720 - val_auc: 0.8775 - lr: 1.0000e-08\n",
            "Epoch 24/60\n",
            "103/103 [==============================] - 14s 132ms/step - loss: 0.3645 - acc: 0.8544 - auc: 0.9752 - val_loss: 1.9238 - val_acc: 0.6732 - val_auc: 0.8799 - lr: 1.0000e-08\n",
            "Epoch 25/60\n",
            "103/103 [==============================] - 14s 132ms/step - loss: 0.3743 - acc: 0.8520 - auc: 0.9739 - val_loss: 1.9140 - val_acc: 0.6683 - val_auc: 0.8791 - lr: 1.0000e-09\n",
            "Epoch 26/60\n",
            "103/103 [==============================] - 14s 132ms/step - loss: 0.3617 - acc: 0.8602 - auc: 0.9754 - val_loss: 1.9004 - val_acc: 0.6756 - val_auc: 0.8791 - lr: 1.0000e-09\n",
            "Epoch 27/60\n",
            "103/103 [==============================] - 14s 132ms/step - loss: 0.3555 - acc: 0.8590 - auc: 0.9766 - val_loss: 1.9711 - val_acc: 0.6780 - val_auc: 0.8803 - lr: 1.0000e-09\n",
            "Epoch 28/60\n",
            "103/103 [==============================] - 14s 133ms/step - loss: 0.3340 - acc: 0.8758 - auc: 0.9790 - val_loss: 2.0020 - val_acc: 0.6793 - val_auc: 0.8811 - lr: 1.0000e-10\n",
            "Epoch 29/60\n",
            "103/103 [==============================] - 14s 132ms/step - loss: 0.3817 - acc: 0.8520 - auc: 0.9734 - val_loss: 1.9955 - val_acc: 0.6805 - val_auc: 0.8788 - lr: 1.0000e-10\n",
            "Epoch 30/60\n",
            "103/103 [==============================] - 14s 133ms/step - loss: 0.3660 - acc: 0.8541 - auc: 0.9752 - val_loss: 1.9935 - val_acc: 0.6841 - val_auc: 0.8799 - lr: 1.0000e-10\n",
            "Epoch 31/60\n",
            "103/103 [==============================] - 14s 132ms/step - loss: 0.3799 - acc: 0.8562 - auc: 0.9732 - val_loss: 1.9445 - val_acc: 0.6805 - val_auc: 0.8792 - lr: 1.0000e-11\n",
            "Epoch 32/60\n",
            "103/103 [==============================] - 14s 132ms/step - loss: 0.3476 - acc: 0.8687 - auc: 0.9772 - val_loss: 1.9893 - val_acc: 0.6841 - val_auc: 0.8789 - lr: 1.0000e-11\n",
            "Epoch 33/60\n",
            "103/103 [==============================] - 14s 133ms/step - loss: 0.3677 - acc: 0.8553 - auc: 0.9749 - val_loss: 1.8989 - val_acc: 0.6866 - val_auc: 0.8792 - lr: 1.0000e-11\n",
            "Epoch 34/60\n",
            "103/103 [==============================] - 14s 133ms/step - loss: 0.3495 - acc: 0.8639 - auc: 0.9771 - val_loss: 1.8598 - val_acc: 0.6854 - val_auc: 0.8814 - lr: 1.0000e-12\n",
            "Epoch 35/60\n",
            "103/103 [==============================] - 14s 133ms/step - loss: 0.3969 - acc: 0.8410 - auc: 0.9710 - val_loss: 1.9293 - val_acc: 0.6793 - val_auc: 0.8789 - lr: 1.0000e-12\n",
            "Epoch 36/60\n",
            "103/103 [==============================] - 14s 133ms/step - loss: 0.3659 - acc: 0.8562 - auc: 0.9751 - val_loss: 1.8935 - val_acc: 0.6854 - val_auc: 0.8823 - lr: 1.0000e-12\n",
            "Epoch 37/60\n",
            "103/103 [==============================] - 14s 132ms/step - loss: 0.3789 - acc: 0.8529 - auc: 0.9735 - val_loss: 1.8718 - val_acc: 0.6780 - val_auc: 0.8801 - lr: 1.0000e-13\n",
            "Epoch 38/60\n",
            "103/103 [==============================] - 14s 133ms/step - loss: 0.3553 - acc: 0.8596 - auc: 0.9765 - val_loss: 1.8882 - val_acc: 0.6854 - val_auc: 0.8827 - lr: 1.0000e-13\n",
            "Epoch 39/60\n",
            "103/103 [==============================] - 14s 133ms/step - loss: 0.3872 - acc: 0.8443 - auc: 0.9724 - val_loss: 1.8374 - val_acc: 0.6646 - val_auc: 0.8798 - lr: 1.0000e-13\n",
            "Epoch 40/60\n",
            "103/103 [==============================] - 14s 133ms/step - loss: 0.3691 - acc: 0.8584 - auc: 0.9747 - val_loss: 1.9137 - val_acc: 0.6829 - val_auc: 0.8806 - lr: 1.0000e-14\n",
            "Epoch 41/60\n",
            "103/103 [==============================] - 14s 132ms/step - loss: 0.3678 - acc: 0.8571 - auc: 0.9749 - val_loss: 1.9218 - val_acc: 0.6780 - val_auc: 0.8795 - lr: 1.0000e-14\n",
            "Epoch 42/60\n",
            "103/103 [==============================] - 14s 133ms/step - loss: 0.3691 - acc: 0.8581 - auc: 0.9748 - val_loss: 2.0339 - val_acc: 0.6793 - val_auc: 0.8764 - lr: 1.0000e-14\n",
            "Epoch 43/60\n",
            "103/103 [==============================] - 14s 133ms/step - loss: 0.3608 - acc: 0.8632 - auc: 0.9753 - val_loss: 1.9862 - val_acc: 0.6817 - val_auc: 0.8795 - lr: 1.0000e-15\n",
            "Epoch 44/60\n",
            "103/103 [==============================] - 14s 133ms/step - loss: 0.3485 - acc: 0.8639 - auc: 0.9777 - val_loss: 1.8791 - val_acc: 0.6805 - val_auc: 0.8804 - lr: 1.0000e-15\n",
            "Epoch 45/60\n",
            "103/103 [==============================] - 14s 133ms/step - loss: 0.3672 - acc: 0.8471 - auc: 0.9751 - val_loss: 1.8577 - val_acc: 0.6817 - val_auc: 0.8828 - lr: 1.0000e-15\n",
            "Epoch 46/60\n",
            "103/103 [==============================] - 14s 133ms/step - loss: 0.3675 - acc: 0.8599 - auc: 0.9746 - val_loss: 1.9097 - val_acc: 0.6854 - val_auc: 0.8806 - lr: 1.0000e-16\n",
            "Epoch 47/60\n",
            "103/103 [==============================] - 14s 133ms/step - loss: 0.3691 - acc: 0.8535 - auc: 0.9747 - val_loss: 1.9880 - val_acc: 0.6829 - val_auc: 0.8811 - lr: 1.0000e-16\n",
            "Epoch 48/60\n",
            "103/103 [==============================] - 14s 133ms/step - loss: 0.3846 - acc: 0.8458 - auc: 0.9728 - val_loss: 2.0247 - val_acc: 0.6866 - val_auc: 0.8824 - lr: 1.0000e-16\n",
            "Epoch 49/60\n",
            "103/103 [==============================] - 14s 133ms/step - loss: 0.3781 - acc: 0.8489 - auc: 0.9737 - val_loss: 1.8033 - val_acc: 0.6841 - val_auc: 0.8827 - lr: 1.0000e-17\n",
            "Epoch 50/60\n",
            "103/103 [==============================] - 14s 132ms/step - loss: 0.3656 - acc: 0.8620 - auc: 0.9747 - val_loss: 1.8991 - val_acc: 0.6817 - val_auc: 0.8819 - lr: 1.0000e-17\n",
            "Epoch 51/60\n",
            "103/103 [==============================] - 14s 133ms/step - loss: 0.3556 - acc: 0.8620 - auc: 0.9764 - val_loss: 1.8694 - val_acc: 0.6902 - val_auc: 0.8842 - lr: 1.0000e-17\n",
            "Epoch 52/60\n",
            "103/103 [==============================] - 14s 133ms/step - loss: 0.3531 - acc: 0.8611 - auc: 0.9767 - val_loss: 1.8860 - val_acc: 0.6817 - val_auc: 0.8796 - lr: 1.0000e-18\n",
            "Epoch 53/60\n",
            "103/103 [==============================] - 14s 133ms/step - loss: 0.3550 - acc: 0.8590 - auc: 0.9762 - val_loss: 1.8404 - val_acc: 0.6805 - val_auc: 0.8787 - lr: 1.0000e-18\n",
            "Epoch 54/60\n",
            "103/103 [==============================] - 14s 133ms/step - loss: 0.3553 - acc: 0.8590 - auc: 0.9766 - val_loss: 1.9041 - val_acc: 0.6841 - val_auc: 0.8790 - lr: 1.0000e-18\n",
            "Epoch 55/60\n",
            "103/103 [==============================] - 14s 133ms/step - loss: 0.3700 - acc: 0.8587 - auc: 0.9744 - val_loss: 1.9246 - val_acc: 0.6841 - val_auc: 0.8776 - lr: 1.0000e-19\n",
            "Epoch 56/60\n",
            "103/103 [==============================] - 14s 133ms/step - loss: 0.3710 - acc: 0.8565 - auc: 0.9745 - val_loss: 1.9221 - val_acc: 0.6829 - val_auc: 0.8785 - lr: 1.0000e-19\n",
            "Epoch 57/60\n",
            "103/103 [==============================] - 14s 133ms/step - loss: 0.3858 - acc: 0.8571 - auc: 0.9724 - val_loss: 1.8714 - val_acc: 0.6841 - val_auc: 0.8800 - lr: 1.0000e-19\n",
            "Epoch 58/60\n",
            "103/103 [==============================] - 14s 133ms/step - loss: 0.3644 - acc: 0.8513 - auc: 0.9753 - val_loss: 1.9166 - val_acc: 0.6780 - val_auc: 0.8792 - lr: 1.0000e-20\n",
            "Epoch 59/60\n",
            "103/103 [==============================] - 14s 133ms/step - loss: 0.3748 - acc: 0.8510 - auc: 0.9741 - val_loss: 1.9161 - val_acc: 0.6841 - val_auc: 0.8785 - lr: 1.0000e-20\n",
            "Epoch 60/60\n",
            "103/103 [==============================] - 14s 133ms/step - loss: 0.3749 - acc: 0.8529 - auc: 0.9739 - val_loss: 1.8738 - val_acc: 0.6829 - val_auc: 0.8823 - lr: 1.0000e-20\n"
          ]
        }
      ],
      "source": [
        "history = custom_vgg_model.fit(train_data, train_labels, validation_data=(val_data, val_labels), callbacks=CALLBACKS, epochs=60)"
      ]
    },
    {
      "cell_type": "code",
      "execution_count": 38,
      "metadata": {
        "colab": {
          "base_uri": "https://localhost:8080/",
          "height": 290
        },
        "id": "uviTbzcymnAj",
        "outputId": "623c44c2-73d1-4c62-fc50-71b9fa07560f"
      },
      "outputs": [
        {
          "output_type": "display_data",
          "data": {
            "text/plain": [
              "<Figure size 2160x360 with 3 Axes>"
            ],
            "image/png": "[encoded data removed]"
          },
          "metadata": {
            "needs_background": "light"
          }
        }
      ],
      "source": [
        "fig, ax = plt.subplots(1, 3, figsize = (30, 5))\n",
        "ax = ax.ravel()\n",
        "\n",
        "for i, metric in enumerate([\"acc\", \"auc\", \"loss\"]):\n",
        "    ax[i].plot(history.history[metric])\n",
        "    ax[i].plot(history.history[\"val_\" + metric])\n",
        "    ax[i].set_title(\"Model {}\".format(metric))\n",
        "    ax[i].set_xlabel(\"Epochs\")\n",
        "    ax[i].set_ylabel(metric)\n",
        "    ax[i].legend([\"train\", \"val\"])"
      ]
    },
    {
      "cell_type": "code",
      "execution_count": 39,
      "metadata": {
        "colab": {
          "base_uri": "https://localhost:8080/"
        },
        "id": "P8HRP5D0nHHk",
        "outputId": "4d6633f4-e828-4f6c-ae4c-cc78eeb6a1b0"
      },
      "outputs": [
        {
          "output_type": "stream",
          "name": "stdout",
          "text": [
            "32/32 [==============================] - 4s 101ms/step - loss: 1.6559 - acc: 0.7070 - auc: 0.8933\n",
            "Testing Accuracy: 70.70%\n"
          ]
        }
      ],
      "source": [
        "test_scores = custom_vgg_model.evaluate(test_data, test_labels)\n",
        "print(\"Testing Accuracy: %.2f%%\"%(test_scores[1] * 100))"
      ]
    }
  ],
  "metadata": {
    "colab": {
      "collapsed_sections": [],
      "name": "Dementia_Classification.ipynb",
      "provenance": [],
      "include_colab_link": true
    },
    "kernelspec": {
      "display_name": "Python 3",
      "name": "python3"
    },
    "language_info": {
      "name": "python"
    },
    "accelerator": "GPU"
  },
  "nbformat": 4,
  "nbformat_minor": 0
}