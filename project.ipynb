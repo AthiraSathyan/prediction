{
  "nbformat": 4,
  "nbformat_minor": 0,
  "metadata": {
    "colab": {
      "name": "project.ipynb",
      "provenance": [],
      "collapsed_sections": [],
      "include_colab_link": true
    },
    "kernelspec": {
      "name": "python3",
      "display_name": "Python 3"
    },
    "language_info": {
      "name": "python"
    }
  },
  "cells": [
    {
      "cell_type": "markdown",
      "metadata": {
        "id": "view-in-github",
        "colab_type": "text"
      },
      "source": [
        "<a href=\"https://colab.research.google.com/github/AthiraSathyan/prediction/blob/main/project.ipynb\" target=\"_parent\"><img src=\"https://colab.research.google.com/assets/colab-badge.svg\" alt=\"Open In Colab\"/></a>"
      ]
    },
    {
      "cell_type": "code",
      "execution_count": null,
      "metadata": {
        "id": "paP2AodcGaJl"
      },
      "outputs": [],
      "source": [
        "import pandas as pd\n",
        "ds=pd.read_csv(\"newdata.csv\")\n"
      ]
    },
    {
      "cell_type": "code",
      "source": [
        "ds.head()"
      ],
      "metadata": {
        "colab": {
          "base_uri": "https://localhost:8080/",
          "height": 206
        },
        "id": "ZBaz9qSCG-Cq",
        "outputId": "67a832b2-fec3-4920-e0ed-c5728cd2de5e"
      },
      "execution_count": null,
      "outputs": [
        {
          "output_type": "execute_result",
          "data": {
            "text/plain": [
              "    Subject  Gender mmse  ageAtEntry  cdr memory            dx1\n",
              "0  OAS30124  female   16    79.14579  1.0      1  'AD Dementia'\n",
              "1  OAS30124  female   21    79.14579  0.5    0.5  'AD Dementia'\n",
              "2  OAS31129  female   20    68.07666  1.0      1  'AD Dementia'\n",
              "3  OAS31129  female   28    68.07666  1.0      1  'AD Dementia'\n",
              "4  OAS31129  female   29    68.07666  0.5    0.5  'AD Dementia'"
            ],
            "text/html": [
              "\n",
              "  <div id=\"df-1681ed2b-590a-4043-9a12-5eec73f836e9\">\n",
              "    <div class=\"colab-df-container\">\n",
              "      <div>\n",
              "<style scoped>\n",
              "    .dataframe tbody tr th:only-of-type {\n",
              "        vertical-align: middle;\n",
              "    }\n",
              "\n",
              "    .dataframe tbody tr th {\n",
              "        vertical-align: top;\n",
              "    }\n",
              "\n",
              "    .dataframe thead th {\n",
              "        text-align: right;\n",
              "    }\n",
              "</style>\n",
              "<table border=\"1\" class=\"dataframe\">\n",
              "  <thead>\n",
              "    <tr style=\"text-align: right;\">\n",
              "      <th></th>\n",
              "      <th>Subject</th>\n",
              "      <th>Gender</th>\n",
              "      <th>mmse</th>\n",
              "      <th>ageAtEntry</th>\n",
              "      <th>cdr</th>\n",
              "      <th>memory</th>\n",
              "      <th>dx1</th>\n",
              "    </tr>\n",
              "  </thead>\n",
              "  <tbody>\n",
              "    <tr>\n",
              "      <th>0</th>\n",
              "      <td>OAS30124</td>\n",
              "      <td>female</td>\n",
              "      <td>16</td>\n",
              "      <td>79.14579</td>\n",
              "      <td>1.0</td>\n",
              "      <td>1</td>\n",
              "      <td>'AD Dementia'</td>\n",
              "    </tr>\n",
              "    <tr>\n",
              "      <th>1</th>\n",
              "      <td>OAS30124</td>\n",
              "      <td>female</td>\n",
              "      <td>21</td>\n",
              "      <td>79.14579</td>\n",
              "      <td>0.5</td>\n",
              "      <td>0.5</td>\n",
              "      <td>'AD Dementia'</td>\n",
              "    </tr>\n",
              "    <tr>\n",
              "      <th>2</th>\n",
              "      <td>OAS31129</td>\n",
              "      <td>female</td>\n",
              "      <td>20</td>\n",
              "      <td>68.07666</td>\n",
              "      <td>1.0</td>\n",
              "      <td>1</td>\n",
              "      <td>'AD Dementia'</td>\n",
              "    </tr>\n",
              "    <tr>\n",
              "      <th>3</th>\n",
              "      <td>OAS31129</td>\n",
              "      <td>female</td>\n",
              "      <td>28</td>\n",
              "      <td>68.07666</td>\n",
              "      <td>1.0</td>\n",
              "      <td>1</td>\n",
              "      <td>'AD Dementia'</td>\n",
              "    </tr>\n",
              "    <tr>\n",
              "      <th>4</th>\n",
              "      <td>OAS31129</td>\n",
              "      <td>female</td>\n",
              "      <td>29</td>\n",
              "      <td>68.07666</td>\n",
              "      <td>0.5</td>\n",
              "      <td>0.5</td>\n",
              "      <td>'AD Dementia'</td>\n",
              "    </tr>\n",
              "  </tbody>\n",
              "</table>\n",
              "</div>\n",
              "      <button class=\"colab-df-convert\" onclick=\"convertToInteractive('df-1681ed2b-590a-4043-9a12-5eec73f836e9')\"\n",
              "              title=\"Convert this dataframe to an interactive table.\"\n",
              "              style=\"display:none;\">\n",
              "        \n",
              "  <svg xmlns=\"http://www.w3.org/2000/svg\" height=\"24px\"viewBox=\"0 0 24 24\"\n",
              "       width=\"24px\">\n",
              "    <path d=\"M0 0h24v24H0V0z\" fill=\"none\"/>\n",
              "    <path d=\"M18.56 5.44l.94 2.06.94-2.06 2.06-.94-2.06-.94-.94-2.06-.94 2.06-2.06.94zm-11 1L8.5 8.5l.94-2.06 2.06-.94-2.06-.94L8.5 2.5l-.94 2.06-2.06.94zm10 10l.94 2.06.94-2.06 2.06-.94-2.06-.94-.94-2.06-.94 2.06-2.06.94z\"/><path d=\"M17.41 7.96l-1.37-1.37c-.4-.4-.92-.59-1.43-.59-.52 0-1.04.2-1.43.59L10.3 9.45l-7.72 7.72c-.78.78-.78 2.05 0 2.83L4 21.41c.39.39.9.59 1.41.59.51 0 1.02-.2 1.41-.59l7.78-7.78 2.81-2.81c.8-.78.8-2.07 0-2.86zM5.41 20L4 18.59l7.72-7.72 1.47 1.35L5.41 20z\"/>\n",
              "  </svg>\n",
              "      </button>\n",
              "      \n",
              "  <style>\n",
              "    .colab-df-container {\n",
              "      display:flex;\n",
              "      flex-wrap:wrap;\n",
              "      gap: 12px;\n",
              "    }\n",
              "\n",
              "    .colab-df-convert {\n",
              "      background-color: #E8F0FE;\n",
              "      border: none;\n",
              "      border-radius: 50%;\n",
              "      cursor: pointer;\n",
              "      display: none;\n",
              "      fill: #1967D2;\n",
              "      height: 32px;\n",
              "      padding: 0 0 0 0;\n",
              "      width: 32px;\n",
              "    }\n",
              "\n",
              "    .colab-df-convert:hover {\n",
              "      background-color: #E2EBFA;\n",
              "      box-shadow: 0px 1px 2px rgba(60, 64, 67, 0.3), 0px 1px 3px 1px rgba(60, 64, 67, 0.15);\n",
              "      fill: #174EA6;\n",
              "    }\n",
              "\n",
              "    [theme=dark] .colab-df-convert {\n",
              "      background-color: #3B4455;\n",
              "      fill: #D2E3FC;\n",
              "    }\n",
              "\n",
              "    [theme=dark] .colab-df-convert:hover {\n",
              "      background-color: #434B5C;\n",
              "      box-shadow: 0px 1px 3px 1px rgba(0, 0, 0, 0.15);\n",
              "      filter: drop-shadow(0px 1px 2px rgba(0, 0, 0, 0.3));\n",
              "      fill: #FFFFFF;\n",
              "    }\n",
              "  </style>\n",
              "\n",
              "      <script>\n",
              "        const buttonEl =\n",
              "          document.querySelector('#df-1681ed2b-590a-4043-9a12-5eec73f836e9 button.colab-df-convert');\n",
              "        buttonEl.style.display =\n",
              "          google.colab.kernel.accessAllowed ? 'block' : 'none';\n",
              "\n",
              "        async function convertToInteractive(key) {\n",
              "          const element = document.querySelector('#df-1681ed2b-590a-4043-9a12-5eec73f836e9');\n",
              "          const dataTable =\n",
              "            await google.colab.kernel.invokeFunction('convertToInteractive',\n",
              "                                                     [key], {});\n",
              "          if (!dataTable) return;\n",
              "\n",
              "          const docLinkHtml = 'Like what you see? Visit the ' +\n",
              "            '<a target=\"_blank\" href=https://colab.research.google.com/notebooks/data_table.ipynb>data table notebook</a>'\n",
              "            + ' to learn more about interactive tables.';\n",
              "          element.innerHTML = '';\n",
              "          dataTable['output_type'] = 'display_data';\n",
              "          await google.colab.output.renderOutput(dataTable, element);\n",
              "          const docLink = document.createElement('div');\n",
              "          docLink.innerHTML = docLinkHtml;\n",
              "          element.appendChild(docLink);\n",
              "        }\n",
              "      </script>\n",
              "    </div>\n",
              "  </div>\n",
              "  "
            ]
          },
          "metadata": {},
          "execution_count": 6
        }
      ]
    },
    {
      "cell_type": "code",
      "source": [
        "ds[\"dx1\"].value_counts()"
      ],
      "metadata": {
        "colab": {
          "base_uri": "https://localhost:8080/"
        },
        "id": "q9kT2xvybWxO",
        "outputId": "b01f76b1-54ec-4e68-81ef-a920e499c935"
      },
      "execution_count": null,
      "outputs": [
        {
          "output_type": "execute_result",
          "data": {
            "text/plain": [
              "'AD Dementia'           1435\n",
              "'uncertain dementia'    1219\n",
              "'No dementia'            345\n",
              "Name: dx1, dtype: int64"
            ]
          },
          "metadata": {},
          "execution_count": 8
        }
      ]
    },
    {
      "cell_type": "code",
      "source": [
        "ds.isnull().sum()"
      ],
      "metadata": {
        "colab": {
          "base_uri": "https://localhost:8080/"
        },
        "id": "2pgMfg2tzzEG",
        "outputId": "4fb6cca6-11f2-4b30-a385-eaa90aaa88dc"
      },
      "execution_count": null,
      "outputs": [
        {
          "output_type": "execute_result",
          "data": {
            "text/plain": [
              "Subject       0\n",
              "Gender        0\n",
              "mmse          0\n",
              "ageAtEntry    0\n",
              "cdr           0\n",
              "memory        0\n",
              "dx1           0\n",
              "dtype: int64"
            ]
          },
          "metadata": {},
          "execution_count": 9
        }
      ]
    },
    {
      "cell_type": "code",
      "source": [
        "#ds.dtypes"
      ],
      "metadata": {
        "id": "bz87q4bbz-cd"
      },
      "execution_count": null,
      "outputs": []
    },
    {
      "cell_type": "code",
      "source": [
        "ds[68:80]"
      ],
      "metadata": {
        "colab": {
          "base_uri": "https://localhost:8080/",
          "height": 426
        },
        "id": "uThIYYDka7MZ",
        "outputId": "f1c5edb5-005a-4d19-a573-a8ae909a6d7b"
      },
      "execution_count": null,
      "outputs": [
        {
          "output_type": "execute_result",
          "data": {
            "text/plain": [
              "     Subject  Gender mmse  ageAtEntry  cdr memory                   dx1\n",
              "68  OAS30805    male   24   66.592740  1.0      1         'AD Dementia'\n",
              "69  OAS30805    male    ?   66.592740  0.5      1         'AD Dementia'\n",
              "70  OAS30805    male   29   66.592740  0.5    0.5  'uncertain dementia'\n",
              "71  OAS30805    male   23   66.592740  1.0      1         'AD Dementia'\n",
              "72  OAS30805    male   28   66.592740  0.5      1         'AD Dementia'\n",
              "73  OAS30805    male   29   66.592740  0.5    0.5         'AD Dementia'\n",
              "74  OAS30805    male    ?   66.592740  0.5    0.5         'AD Dementia'\n",
              "75  OAS30173  female   27   68.251884  0.5    0.5  'uncertain dementia'\n",
              "76  OAS30173  female   24   68.251884  0.5    0.5  'uncertain dementia'\n",
              "77  OAS30379    male   25   83.345660  0.5    0.5         'AD Dementia'\n",
              "78  OAS30379    male   27   83.345660  0.5    0.5  'uncertain dementia'\n",
              "79  OAS31150    male   29   64.870636  0.5    0.5  'uncertain dementia'"
            ],
            "text/html": [
              "\n",
              "  <div id=\"df-669ad92f-7c91-49ab-ae26-9e415dfc1b9e\">\n",
              "    <div class=\"colab-df-container\">\n",
              "      <div>\n",
              "<style scoped>\n",
              "    .dataframe tbody tr th:only-of-type {\n",
              "        vertical-align: middle;\n",
              "    }\n",
              "\n",
              "    .dataframe tbody tr th {\n",
              "        vertical-align: top;\n",
              "    }\n",
              "\n",
              "    .dataframe thead th {\n",
              "        text-align: right;\n",
              "    }\n",
              "</style>\n",
              "<table border=\"1\" class=\"dataframe\">\n",
              "  <thead>\n",
              "    <tr style=\"text-align: right;\">\n",
              "      <th></th>\n",
              "      <th>Subject</th>\n",
              "      <th>Gender</th>\n",
              "      <th>mmse</th>\n",
              "      <th>ageAtEntry</th>\n",
              "      <th>cdr</th>\n",
              "      <th>memory</th>\n",
              "      <th>dx1</th>\n",
              "    </tr>\n",
              "  </thead>\n",
              "  <tbody>\n",
              "    <tr>\n",
              "      <th>68</th>\n",
              "      <td>OAS30805</td>\n",
              "      <td>male</td>\n",
              "      <td>24</td>\n",
              "      <td>66.592740</td>\n",
              "      <td>1.0</td>\n",
              "      <td>1</td>\n",
              "      <td>'AD Dementia'</td>\n",
              "    </tr>\n",
              "    <tr>\n",
              "      <th>69</th>\n",
              "      <td>OAS30805</td>\n",
              "      <td>male</td>\n",
              "      <td>?</td>\n",
              "      <td>66.592740</td>\n",
              "      <td>0.5</td>\n",
              "      <td>1</td>\n",
              "      <td>'AD Dementia'</td>\n",
              "    </tr>\n",
              "    <tr>\n",
              "      <th>70</th>\n",
              "      <td>OAS30805</td>\n",
              "      <td>male</td>\n",
              "      <td>29</td>\n",
              "      <td>66.592740</td>\n",
              "      <td>0.5</td>\n",
              "      <td>0.5</td>\n",
              "      <td>'uncertain dementia'</td>\n",
              "    </tr>\n",
              "    <tr>\n",
              "      <th>71</th>\n",
              "      <td>OAS30805</td>\n",
              "      <td>male</td>\n",
              "      <td>23</td>\n",
              "      <td>66.592740</td>\n",
              "      <td>1.0</td>\n",
              "      <td>1</td>\n",
              "      <td>'AD Dementia'</td>\n",
              "    </tr>\n",
              "    <tr>\n",
              "      <th>72</th>\n",
              "      <td>OAS30805</td>\n",
              "      <td>male</td>\n",
              "      <td>28</td>\n",
              "      <td>66.592740</td>\n",
              "      <td>0.5</td>\n",
              "      <td>1</td>\n",
              "      <td>'AD Dementia'</td>\n",
              "    </tr>\n",
              "    <tr>\n",
              "      <th>73</th>\n",
              "      <td>OAS30805</td>\n",
              "      <td>male</td>\n",
              "      <td>29</td>\n",
              "      <td>66.592740</td>\n",
              "      <td>0.5</td>\n",
              "      <td>0.5</td>\n",
              "      <td>'AD Dementia'</td>\n",
              "    </tr>\n",
              "    <tr>\n",
              "      <th>74</th>\n",
              "      <td>OAS30805</td>\n",
              "      <td>male</td>\n",
              "      <td>?</td>\n",
              "      <td>66.592740</td>\n",
              "      <td>0.5</td>\n",
              "      <td>0.5</td>\n",
              "      <td>'AD Dementia'</td>\n",
              "    </tr>\n",
              "    <tr>\n",
              "      <th>75</th>\n",
              "      <td>OAS30173</td>\n",
              "      <td>female</td>\n",
              "      <td>27</td>\n",
              "      <td>68.251884</td>\n",
              "      <td>0.5</td>\n",
              "      <td>0.5</td>\n",
              "      <td>'uncertain dementia'</td>\n",
              "    </tr>\n",
              "    <tr>\n",
              "      <th>76</th>\n",
              "      <td>OAS30173</td>\n",
              "      <td>female</td>\n",
              "      <td>24</td>\n",
              "      <td>68.251884</td>\n",
              "      <td>0.5</td>\n",
              "      <td>0.5</td>\n",
              "      <td>'uncertain dementia'</td>\n",
              "    </tr>\n",
              "    <tr>\n",
              "      <th>77</th>\n",
              "      <td>OAS30379</td>\n",
              "      <td>male</td>\n",
              "      <td>25</td>\n",
              "      <td>83.345660</td>\n",
              "      <td>0.5</td>\n",
              "      <td>0.5</td>\n",
              "      <td>'AD Dementia'</td>\n",
              "    </tr>\n",
              "    <tr>\n",
              "      <th>78</th>\n",
              "      <td>OAS30379</td>\n",
              "      <td>male</td>\n",
              "      <td>27</td>\n",
              "      <td>83.345660</td>\n",
              "      <td>0.5</td>\n",
              "      <td>0.5</td>\n",
              "      <td>'uncertain dementia'</td>\n",
              "    </tr>\n",
              "    <tr>\n",
              "      <th>79</th>\n",
              "      <td>OAS31150</td>\n",
              "      <td>male</td>\n",
              "      <td>29</td>\n",
              "      <td>64.870636</td>\n",
              "      <td>0.5</td>\n",
              "      <td>0.5</td>\n",
              "      <td>'uncertain dementia'</td>\n",
              "    </tr>\n",
              "  </tbody>\n",
              "</table>\n",
              "</div>\n",
              "      <button class=\"colab-df-convert\" onclick=\"convertToInteractive('df-669ad92f-7c91-49ab-ae26-9e415dfc1b9e')\"\n",
              "              title=\"Convert this dataframe to an interactive table.\"\n",
              "              style=\"display:none;\">\n",
              "        \n",
              "  <svg xmlns=\"http://www.w3.org/2000/svg\" height=\"24px\"viewBox=\"0 0 24 24\"\n",
              "       width=\"24px\">\n",
              "    <path d=\"M0 0h24v24H0V0z\" fill=\"none\"/>\n",
              "    <path d=\"M18.56 5.44l.94 2.06.94-2.06 2.06-.94-2.06-.94-.94-2.06-.94 2.06-2.06.94zm-11 1L8.5 8.5l.94-2.06 2.06-.94-2.06-.94L8.5 2.5l-.94 2.06-2.06.94zm10 10l.94 2.06.94-2.06 2.06-.94-2.06-.94-.94-2.06-.94 2.06-2.06.94z\"/><path d=\"M17.41 7.96l-1.37-1.37c-.4-.4-.92-.59-1.43-.59-.52 0-1.04.2-1.43.59L10.3 9.45l-7.72 7.72c-.78.78-.78 2.05 0 2.83L4 21.41c.39.39.9.59 1.41.59.51 0 1.02-.2 1.41-.59l7.78-7.78 2.81-2.81c.8-.78.8-2.07 0-2.86zM5.41 20L4 18.59l7.72-7.72 1.47 1.35L5.41 20z\"/>\n",
              "  </svg>\n",
              "      </button>\n",
              "      \n",
              "  <style>\n",
              "    .colab-df-container {\n",
              "      display:flex;\n",
              "      flex-wrap:wrap;\n",
              "      gap: 12px;\n",
              "    }\n",
              "\n",
              "    .colab-df-convert {\n",
              "      background-color: #E8F0FE;\n",
              "      border: none;\n",
              "      border-radius: 50%;\n",
              "      cursor: pointer;\n",
              "      display: none;\n",
              "      fill: #1967D2;\n",
              "      height: 32px;\n",
              "      padding: 0 0 0 0;\n",
              "      width: 32px;\n",
              "    }\n",
              "\n",
              "    .colab-df-convert:hover {\n",
              "      background-color: #E2EBFA;\n",
              "      box-shadow: 0px 1px 2px rgba(60, 64, 67, 0.3), 0px 1px 3px 1px rgba(60, 64, 67, 0.15);\n",
              "      fill: #174EA6;\n",
              "    }\n",
              "\n",
              "    [theme=dark] .colab-df-convert {\n",
              "      background-color: #3B4455;\n",
              "      fill: #D2E3FC;\n",
              "    }\n",
              "\n",
              "    [theme=dark] .colab-df-convert:hover {\n",
              "      background-color: #434B5C;\n",
              "      box-shadow: 0px 1px 3px 1px rgba(0, 0, 0, 0.15);\n",
              "      filter: drop-shadow(0px 1px 2px rgba(0, 0, 0, 0.3));\n",
              "      fill: #FFFFFF;\n",
              "    }\n",
              "  </style>\n",
              "\n",
              "      <script>\n",
              "        const buttonEl =\n",
              "          document.querySelector('#df-669ad92f-7c91-49ab-ae26-9e415dfc1b9e button.colab-df-convert');\n",
              "        buttonEl.style.display =\n",
              "          google.colab.kernel.accessAllowed ? 'block' : 'none';\n",
              "\n",
              "        async function convertToInteractive(key) {\n",
              "          const element = document.querySelector('#df-669ad92f-7c91-49ab-ae26-9e415dfc1b9e');\n",
              "          const dataTable =\n",
              "            await google.colab.kernel.invokeFunction('convertToInteractive',\n",
              "                                                     [key], {});\n",
              "          if (!dataTable) return;\n",
              "\n",
              "          const docLinkHtml = 'Like what you see? Visit the ' +\n",
              "            '<a target=\"_blank\" href=https://colab.research.google.com/notebooks/data_table.ipynb>data table notebook</a>'\n",
              "            + ' to learn more about interactive tables.';\n",
              "          element.innerHTML = '';\n",
              "          dataTable['output_type'] = 'display_data';\n",
              "          await google.colab.output.renderOutput(dataTable, element);\n",
              "          const docLink = document.createElement('div');\n",
              "          docLink.innerHTML = docLinkHtml;\n",
              "          element.appendChild(docLink);\n",
              "        }\n",
              "      </script>\n",
              "    </div>\n",
              "  </div>\n",
              "  "
            ]
          },
          "metadata": {},
          "execution_count": 10
        }
      ]
    },
    {
      "cell_type": "code",
      "source": [
        "ds['Gender'].replace(['female', 'male'],\n",
        "                        [0, 1], inplace=True)\n",
        "ds['Gender'][45:55]"
      ],
      "metadata": {
        "colab": {
          "base_uri": "https://localhost:8080/"
        },
        "id": "AAIzjCV4I23S",
        "outputId": "6f5b66cf-c369-4891-a3e9-4a5604198af1"
      },
      "execution_count": null,
      "outputs": [
        {
          "output_type": "execute_result",
          "data": {
            "text/plain": [
              "45    1\n",
              "46    1\n",
              "47    1\n",
              "48    1\n",
              "49    1\n",
              "50    0\n",
              "51    0\n",
              "52    0\n",
              "53    0\n",
              "54    0\n",
              "Name: Gender, dtype: int64"
            ]
          },
          "metadata": {},
          "execution_count": 11
        }
      ]
    },
    {
      "cell_type": "code",
      "source": [
        "from statistics import median\n",
        "import numpy as np\n",
        "ds['mmse'] = ds['mmse'].replace(r'?','0')\n",
        "#ds['mmse']=np.float(ds['mmse'])\n",
        "ds['mmse'][68:80]\n"
      ],
      "metadata": {
        "colab": {
          "base_uri": "https://localhost:8080/"
        },
        "id": "s4UlahX3JN_u",
        "outputId": "20e3c42e-66bf-4b6b-9c3d-22664eccfccb"
      },
      "execution_count": null,
      "outputs": [
        {
          "output_type": "execute_result",
          "data": {
            "text/plain": [
              "68    24\n",
              "69     0\n",
              "70    29\n",
              "71    23\n",
              "72    28\n",
              "73    29\n",
              "74     0\n",
              "75    27\n",
              "76    24\n",
              "77    25\n",
              "78    27\n",
              "79    29\n",
              "Name: mmse, dtype: object"
            ]
          },
          "metadata": {},
          "execution_count": 12
        }
      ]
    },
    {
      "cell_type": "code",
      "source": [
        "a=(median(ds['mmse']))\n",
        "a\n",
        "ds['mmse'] = ds['mmse'].replace(r'0',a)\n",
        "ds['mmse'][68:80]\n"
      ],
      "metadata": {
        "colab": {
          "base_uri": "https://localhost:8080/"
        },
        "id": "MBcsqTtBXrFD",
        "outputId": "117007c8-2b7f-4aaf-974a-b437ff835aca"
      },
      "execution_count": null,
      "outputs": [
        {
          "output_type": "execute_result",
          "data": {
            "text/plain": [
              "68    24\n",
              "69    27\n",
              "70    29\n",
              "71    23\n",
              "72    28\n",
              "73    29\n",
              "74    27\n",
              "75    27\n",
              "76    24\n",
              "77    25\n",
              "78    27\n",
              "79    29\n",
              "Name: mmse, dtype: object"
            ]
          },
          "metadata": {},
          "execution_count": 13
        }
      ]
    },
    {
      "cell_type": "code",
      "source": [
        "from statistics import median\n",
        "import numpy as np\n",
        "ds['memory'] = ds['memory'].replace(r'?','0')\n",
        "#ds['mmse']=np.float(ds['mmse'])\n",
        "ds['memory'][548:555]\n"
      ],
      "metadata": {
        "colab": {
          "base_uri": "https://localhost:8080/"
        },
        "id": "H62yHR6zVKWA",
        "outputId": "b5099b9f-a007-4178-d7d3-e88838152de8"
      },
      "execution_count": null,
      "outputs": [
        {
          "output_type": "execute_result",
          "data": {
            "text/plain": [
              "548      0\n",
              "549      1\n",
              "550      2\n",
              "551      1\n",
              "552    0.5\n",
              "553    0.5\n",
              "554    0.5\n",
              "Name: memory, dtype: object"
            ]
          },
          "metadata": {},
          "execution_count": 14
        }
      ]
    },
    {
      "cell_type": "code",
      "source": [
        "print(ds[0:10])\n",
        "ds['mmse'] = ds['mmse'].astype('int64')"
      ],
      "metadata": {
        "colab": {
          "base_uri": "https://localhost:8080/"
        },
        "id": "MDoCm06KZ2vg",
        "outputId": "4fedee3a-0e5d-4cbc-ddcf-758e2c53e05a"
      },
      "execution_count": null,
      "outputs": [
        {
          "output_type": "stream",
          "name": "stdout",
          "text": [
            "    Subject  Gender mmse  ageAtEntry  cdr memory            dx1\n",
            "0  OAS30124       0   16   79.145790  1.0      1  'AD Dementia'\n",
            "1  OAS30124       0   21   79.145790  0.5    0.5  'AD Dementia'\n",
            "2  OAS31129       0   20   68.076660  1.0      1  'AD Dementia'\n",
            "3  OAS31129       0   28   68.076660  1.0      1  'AD Dementia'\n",
            "4  OAS31129       0   29   68.076660  0.5    0.5  'AD Dementia'\n",
            "5  OAS31129       0   29   68.076660  0.5      1  'AD Dementia'\n",
            "6  OAS30865       0   24   73.697464  2.0      2  'AD Dementia'\n",
            "7  OAS30865       0   28   73.697464  0.5      1  'AD Dementia'\n",
            "8  OAS31003       1   30   63.926080  0.5    0.5  'AD Dementia'\n",
            "9  OAS31003       1   30   63.926080  1.0    0.5  'AD Dementia'\n"
          ]
        }
      ]
    },
    {
      "cell_type": "code",
      "source": [
        "import matplotlib.pyplot as plt\n",
        "plt.hist(sorted(ds['mmse']))\n",
        "plt.show()\n"
      ],
      "metadata": {
        "colab": {
          "base_uri": "https://localhost:8080/",
          "height": 265
        },
        "id": "kmIPI9H-lSGm",
        "outputId": "54e7f063-2f5b-40d5-92fc-0d5292877277"
      },
      "execution_count": null,
      "outputs": [
        {
          "output_type": "display_data",
          "data": {
            "text/plain": [
              "<Figure size 432x288 with 1 Axes>"
            ],
            "image/png": "[encoded data removed]"
          },
          "metadata": {
            "needs_background": "light"
          }
        }
      ]
    },
    {
      "cell_type": "code",
      "source": [
        "from matplotlib import pyplot as plt\n",
        "plt.scatter(ds['Gender'],ds['dx1'],color=\"yellow\")\n",
        "plt.title(\"graph\")\n",
        "plt.xlabel(\"indepentent\")\n",
        "plt.ylabel(\"depentent\")\n",
        "plt.show()"
      ],
      "metadata": {
        "colab": {
          "base_uri": "https://localhost:8080/",
          "height": 295
        },
        "id": "CPkn1-Vomioh",
        "outputId": "d1daf438-199c-499e-8abb-5656541f36d0"
      },
      "execution_count": null,
      "outputs": [
        {
          "output_type": "display_data",
          "data": {
            "text/plain": [
              "<Figure size 432x288 with 1 Axes>"
            ],
            "image/png": "[encoded data removed]"
          },
          "metadata": {
            "needs_background": "light"
          }
        }
      ]
    },
    {
      "cell_type": "code",
      "source": [
        "from matplotlib import pyplot as plt\n",
        "plt.scatter(ds['mmse'],ds['dx1'],color=\"red\")\n",
        "plt.title(\"graph\")\n",
        "plt.xlabel(\"indepentent\")\n",
        "plt.ylabel(\"depentent\")\n",
        "plt.show()"
      ],
      "metadata": {
        "colab": {
          "base_uri": "https://localhost:8080/",
          "height": 295
        },
        "id": "ktvso4VaUDtx",
        "outputId": "9b39f192-2e62-4c2d-b069-21dbc043af5c"
      },
      "execution_count": null,
      "outputs": [
        {
          "output_type": "display_data",
          "data": {
            "text/plain": [
              "<Figure size 432x288 with 1 Axes>"
            ],
            "image/png": "[encoded data removed]"
          },
          "metadata": {
            "needs_background": "light"
          }
        }
      ]
    },
    {
      "cell_type": "code",
      "source": [
        "from matplotlib import pyplot as plt\n",
        "plt.scatter(ds['ageAtEntry'],ds['dx1'],color=\"green\")\n",
        "plt.title(\"graph\")\n",
        "plt.xlabel(\"indepentent\")\n",
        "plt.ylabel(\"depentent\")\n",
        "plt.show()"
      ],
      "metadata": {
        "colab": {
          "base_uri": "https://localhost:8080/",
          "height": 295
        },
        "id": "-uSDeDaqULbi",
        "outputId": "c76055d9-07af-4d1c-c33f-cd28ac6736db"
      },
      "execution_count": null,
      "outputs": [
        {
          "output_type": "display_data",
          "data": {
            "text/plain": [
              "<Figure size 432x288 with 1 Axes>"
            ],
            "image/png": "[encoded data removed]"
          },
          "metadata": {
            "needs_background": "light"
          }
        }
      ]
    },
    {
      "cell_type": "code",
      "source": [
        "from matplotlib import pyplot as plt\n",
        "plt.scatter(ds['cdr'],ds['dx1'],color=\"blue\")\n",
        "plt.title(\"graph\")\n",
        "plt.xlabel(\"indepentent\")\n",
        "plt.ylabel(\"depentent\")\n",
        "plt.show()"
      ],
      "metadata": {
        "colab": {
          "base_uri": "https://localhost:8080/",
          "height": 295
        },
        "id": "lUi3sruJUaCA",
        "outputId": "b42792bb-a257-4901-8b05-2a1db4756ed1"
      },
      "execution_count": null,
      "outputs": [
        {
          "output_type": "display_data",
          "data": {
            "text/plain": [
              "<Figure size 432x288 with 1 Axes>"
            ],
            "image/png": "[encoded data removed]"
          },
          "metadata": {
            "needs_background": "light"
          }
        }
      ]
    },
    {
      "cell_type": "code",
      "source": [
        "from matplotlib import pyplot as plt\n",
        "plt.scatter(ds['memory'],ds['dx1'],color=\"yellow\")\n",
        "plt.title(\"graph\")\n",
        "plt.xlabel(\"indepentent\")\n",
        "plt.ylabel(\"depentent\")\n",
        "plt.show()"
      ],
      "metadata": {
        "colab": {
          "base_uri": "https://localhost:8080/",
          "height": 295
        },
        "id": "f3vw9N1XUjyp",
        "outputId": "28360552-271f-49e0-bd48-9dd2ba0c63c0"
      },
      "execution_count": null,
      "outputs": [
        {
          "output_type": "display_data",
          "data": {
            "text/plain": [
              "<Figure size 432x288 with 1 Axes>"
            ],
            "image/png": "[encoded data removed]"
          },
          "metadata": {
            "needs_background": "light"
          }
        }
      ]
    },
    {
      "cell_type": "code",
      "source": [
        "#x=ds.iloc[:,1:5].values\n",
        "f={'mmse','Gender','cdr'}\n",
        "x=ds[f]\n",
        "print(x)\n",
        "y = ds[\"dx1\"].values\n",
        "print(y)"
      ],
      "metadata": {
        "colab": {
          "base_uri": "https://localhost:8080/"
        },
        "id": "vxv-gS2kbhNx",
        "outputId": "2d71b6b7-b3f3-4536-b05a-fa6d697e2dfa"
      },
      "execution_count": null,
      "outputs": [
        {
          "output_type": "stream",
          "name": "stdout",
          "text": [
            "      Gender  cdr  mmse\n",
            "0          0  1.0    16\n",
            "1          0  0.5    21\n",
            "2          0  1.0    20\n",
            "3          0  1.0    28\n",
            "4          0  0.5    29\n",
            "...      ...  ...   ...\n",
            "2994       0  0.5    29\n",
            "2995       1  0.5    29\n",
            "2996       1  0.5    29\n",
            "2997       1  0.5    29\n",
            "2998       1  0.5    28\n",
            "\n",
            "[2999 rows x 3 columns]\n",
            "[\"'AD Dementia'\" \"'AD Dementia'\" \"'AD Dementia'\" ... \"'AD Dementia'\"\n",
            " \"'uncertain dementia'\" \"'AD Dementia'\"]\n"
          ]
        }
      ]
    },
    {
      "cell_type": "code",
      "source": [
        "from sklearn.model_selection import train_test_split\n",
        "x_train,x_test,y_train,y_test=train_test_split(x,y,test_size=0.1,random_state=0)\n",
        "from sklearn import svm\n",
        "#create a classifier\n",
        "cls = svm.SVC(kernel='linear')\n",
        "#train the model\n",
        "\n",
        "cls.fit(x_train,y_train)\n",
        "\n",
        "#predict the response\n",
        "pred = cls.predict(x_test)\n",
        "\n",
        "#df = cls.predict(np.array([[1.,26.,76.96646,0.5]]))\n",
        "#print(df)\n",
        "#pred\n",
        "print(pred)\n",
        "#print(y_test)"
      ],
      "metadata": {
        "id": "bpt7GzOnYvKW",
        "colab": {
          "base_uri": "https://localhost:8080/"
        },
        "outputId": "4ca8af9b-edf4-4764-c5c6-6ac26a85aaae"
      },
      "execution_count": null,
      "outputs": [
        {
          "output_type": "stream",
          "name": "stdout",
          "text": [
            "[\"'uncertain dementia'\" \"'uncertain dementia'\" \"'uncertain dementia'\"\n",
            " \"'uncertain dementia'\" \"'uncertain dementia'\" \"'uncertain dementia'\"\n",
            " \"'uncertain dementia'\" \"'uncertain dementia'\" \"'uncertain dementia'\"\n",
            " \"'AD Dementia'\" \"'AD Dementia'\" \"'uncertain dementia'\" \"'AD Dementia'\"\n",
            " \"'AD Dementia'\" \"'uncertain dementia'\" \"'No dementia'\" \"'AD Dementia'\"\n",
            " \"'uncertain dementia'\" \"'AD Dementia'\" \"'uncertain dementia'\"\n",
            " \"'No dementia'\" \"'AD Dementia'\" \"'uncertain dementia'\" \"'AD Dementia'\"\n",
            " \"'uncertain dementia'\" \"'uncertain dementia'\" \"'uncertain dementia'\"\n",
            " \"'uncertain dementia'\" \"'AD Dementia'\" \"'uncertain dementia'\"\n",
            " \"'No dementia'\" \"'uncertain dementia'\" \"'AD Dementia'\" \"'AD Dementia'\"\n",
            " \"'AD Dementia'\" \"'AD Dementia'\" \"'uncertain dementia'\" \"'AD Dementia'\"\n",
            " \"'AD Dementia'\" \"'uncertain dementia'\" \"'uncertain dementia'\"\n",
            " \"'uncertain dementia'\" \"'uncertain dementia'\" \"'uncertain dementia'\"\n",
            " \"'AD Dementia'\" \"'uncertain dementia'\" \"'AD Dementia'\"\n",
            " \"'uncertain dementia'\" \"'uncertain dementia'\" \"'AD Dementia'\"\n",
            " \"'AD Dementia'\" \"'uncertain dementia'\" \"'AD Dementia'\"\n",
            " \"'uncertain dementia'\" \"'uncertain dementia'\" \"'AD Dementia'\"\n",
            " \"'uncertain dementia'\" \"'uncertain dementia'\" \"'uncertain dementia'\"\n",
            " \"'AD Dementia'\" \"'AD Dementia'\" \"'No dementia'\" \"'AD Dementia'\"\n",
            " \"'uncertain dementia'\" \"'No dementia'\" \"'uncertain dementia'\"\n",
            " \"'AD Dementia'\" \"'AD Dementia'\" \"'uncertain dementia'\"\n",
            " \"'uncertain dementia'\" \"'uncertain dementia'\" \"'AD Dementia'\"\n",
            " \"'uncertain dementia'\" \"'uncertain dementia'\" \"'uncertain dementia'\"\n",
            " \"'uncertain dementia'\" \"'uncertain dementia'\" \"'uncertain dementia'\"\n",
            " \"'uncertain dementia'\" \"'uncertain dementia'\" \"'uncertain dementia'\"\n",
            " \"'uncertain dementia'\" \"'uncertain dementia'\" \"'uncertain dementia'\"\n",
            " \"'uncertain dementia'\" \"'AD Dementia'\" \"'No dementia'\"\n",
            " \"'uncertain dementia'\" \"'uncertain dementia'\" \"'AD Dementia'\"\n",
            " \"'AD Dementia'\" \"'uncertain dementia'\" \"'AD Dementia'\"\n",
            " \"'uncertain dementia'\" \"'uncertain dementia'\" \"'AD Dementia'\"\n",
            " \"'AD Dementia'\" \"'uncertain dementia'\" \"'AD Dementia'\"\n",
            " \"'uncertain dementia'\" \"'uncertain dementia'\" \"'uncertain dementia'\"\n",
            " \"'uncertain dementia'\" \"'AD Dementia'\" \"'uncertain dementia'\"\n",
            " \"'AD Dementia'\" \"'uncertain dementia'\" \"'uncertain dementia'\"\n",
            " \"'uncertain dementia'\" \"'uncertain dementia'\" \"'uncertain dementia'\"\n",
            " \"'No dementia'\" \"'AD Dementia'\" \"'uncertain dementia'\" \"'No dementia'\"\n",
            " \"'uncertain dementia'\" \"'uncertain dementia'\" \"'uncertain dementia'\"\n",
            " \"'AD Dementia'\" \"'uncertain dementia'\" \"'AD Dementia'\"\n",
            " \"'uncertain dementia'\" \"'AD Dementia'\" \"'AD Dementia'\"\n",
            " \"'uncertain dementia'\" \"'No dementia'\" \"'uncertain dementia'\"\n",
            " \"'AD Dementia'\" \"'AD Dementia'\" \"'AD Dementia'\" \"'AD Dementia'\"\n",
            " \"'uncertain dementia'\" \"'uncertain dementia'\" \"'uncertain dementia'\"\n",
            " \"'uncertain dementia'\" \"'uncertain dementia'\" \"'uncertain dementia'\"\n",
            " \"'No dementia'\" \"'No dementia'\" \"'uncertain dementia'\" \"'No dementia'\"\n",
            " \"'uncertain dementia'\" \"'AD Dementia'\" \"'No dementia'\" \"'AD Dementia'\"\n",
            " \"'No dementia'\" \"'No dementia'\" \"'AD Dementia'\" \"'AD Dementia'\"\n",
            " \"'uncertain dementia'\" \"'uncertain dementia'\" \"'AD Dementia'\"\n",
            " \"'uncertain dementia'\" \"'AD Dementia'\" \"'uncertain dementia'\"\n",
            " \"'uncertain dementia'\" \"'No dementia'\" \"'uncertain dementia'\"\n",
            " \"'AD Dementia'\" \"'uncertain dementia'\" \"'No dementia'\" \"'AD Dementia'\"\n",
            " \"'uncertain dementia'\" \"'AD Dementia'\" \"'uncertain dementia'\"\n",
            " \"'No dementia'\" \"'uncertain dementia'\" \"'uncertain dementia'\"\n",
            " \"'No dementia'\" \"'uncertain dementia'\" \"'AD Dementia'\"\n",
            " \"'uncertain dementia'\" \"'uncertain dementia'\" \"'uncertain dementia'\"\n",
            " \"'uncertain dementia'\" \"'uncertain dementia'\" \"'uncertain dementia'\"\n",
            " \"'uncertain dementia'\" \"'No dementia'\" \"'uncertain dementia'\"\n",
            " \"'AD Dementia'\" \"'uncertain dementia'\" \"'No dementia'\"\n",
            " \"'uncertain dementia'\" \"'uncertain dementia'\" \"'AD Dementia'\"\n",
            " \"'AD Dementia'\" \"'No dementia'\" \"'AD Dementia'\" \"'uncertain dementia'\"\n",
            " \"'uncertain dementia'\" \"'uncertain dementia'\" \"'uncertain dementia'\"\n",
            " \"'AD Dementia'\" \"'uncertain dementia'\" \"'uncertain dementia'\"\n",
            " \"'uncertain dementia'\" \"'uncertain dementia'\" \"'uncertain dementia'\"\n",
            " \"'uncertain dementia'\" \"'uncertain dementia'\" \"'uncertain dementia'\"\n",
            " \"'No dementia'\" \"'AD Dementia'\" \"'uncertain dementia'\"\n",
            " \"'uncertain dementia'\" \"'No dementia'\" \"'uncertain dementia'\"\n",
            " \"'AD Dementia'\" \"'uncertain dementia'\" \"'uncertain dementia'\"\n",
            " \"'AD Dementia'\" \"'uncertain dementia'\" \"'uncertain dementia'\"\n",
            " \"'AD Dementia'\" \"'AD Dementia'\" \"'uncertain dementia'\" \"'AD Dementia'\"\n",
            " \"'AD Dementia'\" \"'No dementia'\" \"'uncertain dementia'\"\n",
            " \"'uncertain dementia'\" \"'uncertain dementia'\" \"'uncertain dementia'\"\n",
            " \"'uncertain dementia'\" \"'AD Dementia'\" \"'uncertain dementia'\"\n",
            " \"'uncertain dementia'\" \"'AD Dementia'\" \"'AD Dementia'\" \"'AD Dementia'\"\n",
            " \"'uncertain dementia'\" \"'AD Dementia'\" \"'AD Dementia'\"\n",
            " \"'uncertain dementia'\" \"'uncertain dementia'\" \"'AD Dementia'\"\n",
            " \"'AD Dementia'\" \"'uncertain dementia'\" \"'AD Dementia'\" \"'AD Dementia'\"\n",
            " \"'AD Dementia'\" \"'uncertain dementia'\" \"'uncertain dementia'\"\n",
            " \"'uncertain dementia'\" \"'uncertain dementia'\" \"'uncertain dementia'\"\n",
            " \"'uncertain dementia'\" \"'AD Dementia'\" \"'uncertain dementia'\"\n",
            " \"'uncertain dementia'\" \"'uncertain dementia'\" \"'AD Dementia'\"\n",
            " \"'uncertain dementia'\" \"'AD Dementia'\" \"'uncertain dementia'\"\n",
            " \"'AD Dementia'\" \"'No dementia'\" \"'AD Dementia'\" \"'uncertain dementia'\"\n",
            " \"'AD Dementia'\" \"'uncertain dementia'\" \"'uncertain dementia'\"\n",
            " \"'AD Dementia'\" \"'AD Dementia'\" \"'uncertain dementia'\"\n",
            " \"'uncertain dementia'\" \"'AD Dementia'\" \"'AD Dementia'\" \"'AD Dementia'\"\n",
            " \"'uncertain dementia'\" \"'uncertain dementia'\" \"'uncertain dementia'\"\n",
            " \"'uncertain dementia'\" \"'AD Dementia'\" \"'No dementia'\" \"'AD Dementia'\"\n",
            " \"'uncertain dementia'\" \"'No dementia'\" \"'uncertain dementia'\"\n",
            " \"'uncertain dementia'\" \"'uncertain dementia'\" \"'uncertain dementia'\"\n",
            " \"'AD Dementia'\" \"'uncertain dementia'\" \"'uncertain dementia'\"\n",
            " \"'AD Dementia'\" \"'AD Dementia'\" \"'AD Dementia'\" \"'AD Dementia'\"\n",
            " \"'AD Dementia'\" \"'uncertain dementia'\" \"'uncertain dementia'\"\n",
            " \"'uncertain dementia'\" \"'uncertain dementia'\" \"'AD Dementia'\"\n",
            " \"'No dementia'\" \"'uncertain dementia'\" \"'uncertain dementia'\"\n",
            " \"'AD Dementia'\"]\n"
          ]
        }
      ]
    },
    {
      "cell_type": "code",
      "source": [
        "from sklearn.metrics import accuracy_score,confusion_matrix,classification_report\n",
        "print(\"accuracy\",accuracy_score(pred,y_test))\n",
        "#print(\"r2score:\",confusion_matrix(y_test,y_pred))\n",
        "#print(\"r2score:\",classification_report(y_test,y_pred))"
      ],
      "metadata": {
        "colab": {
          "base_uri": "https://localhost:8080/"
        },
        "id": "_BF4dZn8hD5u",
        "outputId": "7eed4c5d-a345-4155-fd86-55109ed53384"
      },
      "execution_count": null,
      "outputs": [
        {
          "output_type": "stream",
          "name": "stdout",
          "text": [
            "accuracy 0.7766666666666666\n"
          ]
        }
      ]
    }
  ]
}